{
 "cells": [
  {
   "cell_type": "code",
   "execution_count": 1,
   "outputs": [
    {
     "name": "stdout",
     "output_type": "stream",
     "text": [
      "Requirement already satisfied: ffmpeg-python in /Users/valentinafeve/Projects/replica/venv/lib/python3.9/site-packages (0.2.0)\r\n",
      "Requirement already satisfied: future in /Users/valentinafeve/Projects/replica/venv/lib/python3.9/site-packages (from ffmpeg-python) (0.18.3)\r\n",
      "\r\n",
      "\u001B[1m[\u001B[0m\u001B[34;49mnotice\u001B[0m\u001B[1;39;49m]\u001B[0m\u001B[39;49m A new release of pip is available: \u001B[0m\u001B[31;49m23.1.2\u001B[0m\u001B[39;49m -> \u001B[0m\u001B[32;49m23.2.1\u001B[0m\r\n",
      "\u001B[1m[\u001B[0m\u001B[34;49mnotice\u001B[0m\u001B[1;39;49m]\u001B[0m\u001B[39;49m To update, run: \u001B[0m\u001B[32;49mpip install --upgrade pip\u001B[0m\r\n"
     ]
    }
   ],
   "source": [
    "!pip install ffmpeg-python"
   ],
   "metadata": {
    "collapsed": false,
    "ExecuteTime": {
     "end_time": "2023-07-28T22:56:47.853245Z",
     "start_time": "2023-07-28T22:56:46.819070Z"
    }
   }
  },
  {
   "cell_type": "code",
   "execution_count": 8,
   "outputs": [],
   "source": [
    "!export PATH=$PATH:/opt/homebrew/bin"
   ],
   "metadata": {
    "collapsed": false,
    "ExecuteTime": {
     "end_time": "2023-07-28T23:06:50.950154Z",
     "start_time": "2023-07-28T23:06:50.826799Z"
    }
   }
  },
  {
   "cell_type": "code",
   "execution_count": 9,
   "outputs": [
    {
     "name": "stdout",
     "output_type": "stream",
     "text": [
      "/Users/valentinafeve/Projects/replica/venv/bin:/usr/bin:/bin:/usr/sbin:/sbin\r\n"
     ]
    }
   ],
   "source": [
    "!echo $PATH"
   ],
   "metadata": {
    "collapsed": false,
    "ExecuteTime": {
     "end_time": "2023-07-28T23:06:51.959153Z",
     "start_time": "2023-07-28T23:06:51.835107Z"
    }
   }
  },
  {
   "cell_type": "code",
   "execution_count": 1,
   "outputs": [],
   "source": [
    "import whisper\n",
    "import os\n",
    "from tqdm import tqdm"
   ],
   "metadata": {
    "collapsed": false,
    "ExecuteTime": {
     "end_time": "2023-07-28T23:22:00.812248Z",
     "start_time": "2023-07-28T23:22:00.034378Z"
    }
   }
  },
  {
   "cell_type": "code",
   "execution_count": 2,
   "outputs": [],
   "source": [
    "audio_path = \"media/como-te-llamas.mp3\""
   ],
   "metadata": {
    "collapsed": false,
    "ExecuteTime": {
     "end_time": "2023-07-28T23:22:00.814532Z",
     "start_time": "2023-07-28T23:22:00.812778Z"
    }
   }
  },
  {
   "cell_type": "code",
   "execution_count": 3,
   "outputs": [
    {
     "name": "stderr",
     "output_type": "stream",
     "text": [
      "/Users/valentinafeve/Projects/replica/venv/lib/python3.9/site-packages/whisper/transcribe.py:114: UserWarning: FP16 is not supported on CPU; using FP32 instead\n",
      "  warnings.warn(\"FP16 is not supported on CPU; using FP32 instead\")\n"
     ]
    }
   ],
   "source": [
    "model = whisper.load_model(\"base\")\n",
    "result = model.transcribe(audio_path)"
   ],
   "metadata": {
    "collapsed": false,
    "ExecuteTime": {
     "end_time": "2023-07-28T23:22:02.381146Z",
     "start_time": "2023-07-28T23:22:00.815006Z"
    }
   }
  },
  {
   "cell_type": "code",
   "execution_count": 4,
   "outputs": [
    {
     "data": {
      "text/plain": "{'text': ' Κόμα τελιά μας.',\n 'segments': [{'id': 0,\n   'seek': 0,\n   'start': 0.0,\n   'end': 1.2,\n   'text': ' Κόμα τελιά μας.',\n   'tokens': [50364,\n    19233,\n    4826,\n    11656,\n    3596,\n    2080,\n    3659,\n    26855,\n    25287,\n    13,\n    50424],\n   'temperature': 0.0,\n   'avg_logprob': -0.767678419748942,\n   'compression_ratio': 0.7714285714285715,\n   'no_speech_prob': 0.02160870097577572}],\n 'language': 'el'}"
     },
     "execution_count": 4,
     "metadata": {},
     "output_type": "execute_result"
    }
   ],
   "source": [
    "result"
   ],
   "metadata": {
    "collapsed": false,
    "ExecuteTime": {
     "end_time": "2023-07-28T23:22:12.144281Z",
     "start_time": "2023-07-28T23:22:12.135384Z"
    }
   }
  },
  {
   "cell_type": "code",
   "execution_count": null,
   "outputs": [],
   "source": [],
   "metadata": {
    "collapsed": false
   }
  }
 ],
 "metadata": {
  "kernelspec": {
   "name": "python3",
   "language": "python",
   "display_name": "Python 3 (ipykernel)"
  },
  "language_info": {
   "codemirror_mode": {
    "name": "ipython",
    "version": 2
   },
   "file_extension": ".py",
   "mimetype": "text/x-python",
   "name": "python",
   "nbconvert_exporter": "python",
   "pygments_lexer": "ipython2",
   "version": "2.7.6"
  }
 },
 "nbformat": 4,
 "nbformat_minor": 0
}
