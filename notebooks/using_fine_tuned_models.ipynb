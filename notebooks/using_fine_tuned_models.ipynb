{
 "cells": [
  {
   "cell_type": "code",
   "execution_count": 2,
   "outputs": [],
   "source": [
    "import openai\n"
   ],
   "metadata": {
    "collapsed": false,
    "ExecuteTime": {
     "end_time": "2023-06-23T23:39:48.838322Z",
     "start_time": "2023-06-23T23:39:48.201982Z"
    }
   }
  },
  {
   "cell_type": "code",
   "execution_count": 3,
   "outputs": [],
   "source": [
    "openai.api_key_path = \"/Users/valentinafeve/.openai\""
   ],
   "metadata": {
    "collapsed": false,
    "ExecuteTime": {
     "end_time": "2023-06-23T23:39:49.836524Z",
     "start_time": "2023-06-23T23:39:49.834061Z"
    }
   }
  },
  {
   "cell_type": "code",
   "execution_count": 12,
   "outputs": [],
   "source": [
    "\n",
    "response = openai.Completion.create(\n",
    "  model=\"curie:ft-personal-2023-06-22-22-17-24\",\n",
    "  prompt=\"##Vale##: Respondeme cuántos hermanos tienes ##Colin Sippl:##\",\n",
    "  max_tokens=150,\n",
    ")"
   ],
   "metadata": {
    "collapsed": false,
    "ExecuteTime": {
     "end_time": "2023-06-23T23:53:15.787005Z",
     "start_time": "2023-06-23T23:53:13.940669Z"
    }
   }
  },
  {
   "cell_type": "code",
   "execution_count": 13,
   "outputs": [
    {
     "data": {
      "text/plain": "' Attachment: thumbnail (image.jpg, 7034 bytes). ##Vale##: no lo se.tenimos familia?. ##Colin Sippl: Attachment: none (audio/aac, 16027 bytes). ##Vale##: Attachment: image.jpg (image, 3003 bytes). Attachment: image.jpg (image, 2608 bytes). Attachment: image.jpg (image, 2998 bytes). Attachment: image.jpg (image, 3498 bytes). ##Colin Sippl: Attachment: none (audio/aac, 15980 bytes). Audio respondido por tiya. Valparaiso. Heredia. Temisjur Ale'"
     },
     "execution_count": 13,
     "metadata": {},
     "output_type": "execute_result"
    }
   ],
   "source": [
    "response['choices'][0]['text']"
   ],
   "metadata": {
    "collapsed": false,
    "ExecuteTime": {
     "end_time": "2023-06-23T23:53:16.369200Z",
     "start_time": "2023-06-23T23:53:16.363535Z"
    }
   }
  },
  {
   "cell_type": "code",
   "execution_count": null,
   "outputs": [],
   "source": [],
   "metadata": {
    "collapsed": false
   }
  }
 ],
 "metadata": {
  "kernelspec": {
   "display_name": "Python 3",
   "language": "python",
   "name": "python3"
  },
  "language_info": {
   "codemirror_mode": {
    "name": "ipython",
    "version": 2
   },
   "file_extension": ".py",
   "mimetype": "text/x-python",
   "name": "python",
   "nbconvert_exporter": "python",
   "pygments_lexer": "ipython2",
   "version": "2.7.6"
  }
 },
 "nbformat": 4,
 "nbformat_minor": 0
}
