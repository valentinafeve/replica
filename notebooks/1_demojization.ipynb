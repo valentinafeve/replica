{
 "cells": [
  {
   "cell_type": "code",
   "execution_count": 1,
   "metadata": {
    "collapsed": true,
    "ExecuteTime": {
     "end_time": "2023-06-24T13:44:57.336884Z",
     "start_time": "2023-06-24T13:44:57.315927Z"
    }
   },
   "outputs": [],
   "source": [
    "import emoji"
   ]
  },
  {
   "cell_type": "code",
   "execution_count": 5,
   "outputs": [],
   "source": [
    "text = \"\"\"\n",
    "Wanda: Everything makes Cosmo laugh 🙄, look.\n",
    "Wanda: Pudding.\n",
    "Cosmo: 😂🤣 She said \"pu\" 😂🤣 and then she said \"dín.\"\n",
    "\"\"\""
   ],
   "metadata": {
    "collapsed": false,
    "ExecuteTime": {
     "end_time": "2023-06-24T13:52:02.014124Z",
     "start_time": "2023-06-24T13:52:02.012196Z"
    }
   }
  },
  {
   "cell_type": "code",
   "execution_count": 14,
   "outputs": [
    {
     "data": {
      "text/plain": "b'\\nWanda: Everything makes Cosmo laugh \\xf0\\x9f\\x99\\x84, look.\\nWanda: Pudding.\\nCosmo: \\xf0\\x9f\\x98\\x82\\xf0\\x9f\\xa4\\xa3 She said \"pu\" \\xf0\\x9f\\x98\\x82\\xf0\\x9f\\xa4\\xa3 and then she said \"d\\xc3\\xadn.\"\\n'"
     },
     "execution_count": 14,
     "metadata": {},
     "output_type": "execute_result"
    }
   ],
   "source": [
    "text.encode('utf-8')"
   ],
   "metadata": {
    "collapsed": false,
    "ExecuteTime": {
     "end_time": "2023-06-24T13:57:31.543132Z",
     "start_time": "2023-06-24T13:57:31.539699Z"
    }
   }
  },
  {
   "cell_type": "code",
   "execution_count": 11,
   "outputs": [],
   "source": [
    "message_text = emoji.demojize(text, delimiters=(':', ': '), language='en')"
   ],
   "metadata": {
    "collapsed": false,
    "ExecuteTime": {
     "end_time": "2023-06-24T13:53:26.592397Z",
     "start_time": "2023-06-24T13:53:26.589215Z"
    }
   }
  },
  {
   "cell_type": "code",
   "execution_count": 12,
   "outputs": [
    {
     "name": "stdout",
     "output_type": "stream",
     "text": [
      "\n",
      "Wanda: Everything makes Cosmo laugh :face_with_rolling_eyes: , look.\n",
      "Wanda: Pudding.\n",
      "Cosmo: :face_with_tears_of_joy: :rolling_on_the_floor_laughing:  She said \"pu\" :face_with_tears_of_joy: :rolling_on_the_floor_laughing:  and then she said \"dín.\"\n",
      "\n"
     ]
    }
   ],
   "source": [
    "print(message_text)"
   ],
   "metadata": {
    "collapsed": false,
    "ExecuteTime": {
     "end_time": "2023-06-24T13:53:32.318070Z",
     "start_time": "2023-06-24T13:53:32.314971Z"
    }
   }
  },
  {
   "cell_type": "code",
   "execution_count": null,
   "outputs": [],
   "source": [],
   "metadata": {
    "collapsed": false
   }
  }
 ],
 "metadata": {
  "kernelspec": {
   "display_name": "Python 3",
   "language": "python",
   "name": "python3"
  },
  "language_info": {
   "codemirror_mode": {
    "name": "ipython",
    "version": 2
   },
   "file_extension": ".py",
   "mimetype": "text/x-python",
   "name": "python",
   "nbconvert_exporter": "python",
   "pygments_lexer": "ipython2",
   "version": "2.7.6"
  }
 },
 "nbformat": 4,
 "nbformat_minor": 0
}
