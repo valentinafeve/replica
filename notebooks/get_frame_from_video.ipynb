{
 "cells": [
  {
   "cell_type": "code",
   "execution_count": 9,
   "outputs": [],
   "source": [
    "import cv2\n",
    "import random\n",
    "from PIL import Image"
   ],
   "metadata": {
    "collapsed": false,
    "ExecuteTime": {
     "end_time": "2023-07-12T19:45:35.030605Z",
     "start_time": "2023-07-12T19:45:34.860530Z"
    }
   }
  },
  {
   "cell_type": "code",
   "execution_count": 10,
   "outputs": [],
   "source": [
    "def extract_random_frame(video_path):\n",
    "    # Open the video file\n",
    "    video = cv2.VideoCapture(video_path)\n",
    "\n",
    "    # Get the total number of frames in the video\n",
    "    total_frames = int(video.get(cv2.CAP_PROP_FRAME_COUNT))\n",
    "\n",
    "    # Set the video's position to the random frame\n",
    "    video.set(cv2.CAP_PROP_POS_FRAMES, total_frames//2)\n",
    "\n",
    "    # Read the frame\n",
    "    success, frame = video.read()\n",
    "\n",
    "    # Release the video object\n",
    "    video.release()\n",
    "\n",
    "    # Check if the frame was successfully read\n",
    "    if success:\n",
    "        return frame\n",
    "    else:\n",
    "        return None"
   ],
   "metadata": {
    "collapsed": false,
    "ExecuteTime": {
     "end_time": "2023-07-12T19:45:35.177377Z",
     "start_time": "2023-07-12T19:45:35.174442Z"
    }
   }
  },
  {
   "cell_type": "code",
   "execution_count": 11,
   "outputs": [],
   "source": [
    "# Example usage\n",
    "video_path = '/Users/valentinafeve/Projects/replica/attachments/attachment-2023-04-18-12-16-51.mp4'\n",
    "random_frame = extract_random_frame(video_path)\n",
    "image = Image.fromarray(random_frame)\n"
   ],
   "metadata": {
    "collapsed": false,
    "ExecuteTime": {
     "end_time": "2023-07-12T19:45:36.008670Z",
     "start_time": "2023-07-12T19:45:35.969067Z"
    }
   }
  },
  {
   "cell_type": "code",
   "execution_count": 12,
   "outputs": [],
   "source": [
    "# Display the random frame\n",
    "cv2.imshow('Random Frame', random_frame)\n",
    "cv2.waitKey(10)\n",
    "cv2.destroyAllWindows()"
   ],
   "metadata": {
    "collapsed": false,
    "ExecuteTime": {
     "end_time": "2023-07-12T19:45:37.502190Z",
     "start_time": "2023-07-12T19:45:37.409163Z"
    }
   }
  },
  {
   "cell_type": "code",
   "execution_count": 5,
   "outputs": [
    {
     "data": {
      "text/plain": "array([[[221, 211, 205],\n        [221, 211, 205],\n        [221, 211, 205],\n        ...,\n        [239, 230, 212],\n        [239, 230, 212],\n        [239, 230, 212]],\n\n       [[221, 211, 205],\n        [221, 211, 205],\n        [221, 211, 205],\n        ...,\n        [239, 230, 212],\n        [239, 230, 212],\n        [239, 230, 212]],\n\n       [[221, 211, 205],\n        [221, 211, 205],\n        [221, 211, 205],\n        ...,\n        [239, 230, 212],\n        [239, 230, 212],\n        [239, 230, 212]],\n\n       ...,\n\n       [[ 93,  98, 110],\n        [ 93,  98, 110],\n        [ 93,  98, 110],\n        ...,\n        [ 79,  68,  56],\n        [ 79,  68,  56],\n        [ 79,  68,  56]],\n\n       [[ 94, 100, 111],\n        [ 94, 100, 111],\n        [ 94, 100, 111],\n        ...,\n        [ 82,  72,  60],\n        [ 82,  72,  60],\n        [ 82,  72,  60]],\n\n       [[ 94, 100, 111],\n        [ 94, 100, 111],\n        [ 94, 100, 111],\n        ...,\n        [ 84,  74,  62],\n        [ 84,  74,  62],\n        [ 84,  74,  62]]], dtype=uint8)"
     },
     "execution_count": 5,
     "metadata": {},
     "output_type": "execute_result"
    }
   ],
   "source": [
    "random_frame"
   ],
   "metadata": {
    "collapsed": false,
    "ExecuteTime": {
     "end_time": "2023-07-12T19:43:56.307273Z",
     "start_time": "2023-07-12T19:43:56.293352Z"
    }
   }
  },
  {
   "cell_type": "code",
   "execution_count": null,
   "outputs": [],
   "source": [],
   "metadata": {
    "collapsed": false
   }
  }
 ],
 "metadata": {
  "kernelspec": {
   "display_name": "Python 3",
   "language": "python",
   "name": "python3"
  },
  "language_info": {
   "codemirror_mode": {
    "name": "ipython",
    "version": 2
   },
   "file_extension": ".py",
   "mimetype": "text/x-python",
   "name": "python",
   "nbconvert_exporter": "python",
   "pygments_lexer": "ipython2",
   "version": "2.7.6"
  }
 },
 "nbformat": 4,
 "nbformat_minor": 0
}
